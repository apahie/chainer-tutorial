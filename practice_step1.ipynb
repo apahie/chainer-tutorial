{
  "nbformat": 4,
  "nbformat_minor": 0,
  "metadata": {
    "colab": {
      "name": "practice-step1.ipynb",
      "version": "0.3.2",
      "provenance": [],
      "include_colab_link": true
    },
    "kernelspec": {
      "name": "python3",
      "display_name": "Python 3"
    }
  },
  "cells": [
    {
      "cell_type": "markdown",
      "metadata": {
        "id": "view-in-github",
        "colab_type": "text"
      },
      "source": [
        "<a href=\"https://colab.research.google.com/github/apahie/chainer-tutorial/blob/master/practice_step1.ipynb\" target=\"_parent\"><img src=\"https://colab.research.google.com/assets/colab-badge.svg\" alt=\"Open In Colab\"/></a>"
      ]
    },
    {
      "cell_type": "code",
      "metadata": {
        "id": "SfvlP8WJLvhW",
        "colab_type": "code",
        "outputId": "b1e5f134-29fc-49f4-b70a-f1bc41bedb56",
        "colab": {
          "base_uri": "https://localhost:8080/",
          "height": 102
        }
      },
      "source": [
        "a = [4, 8, 3, 4, 1]\n",
        "res1 = len(a)\n",
        "print(res1)\n",
        "\n",
        "res2 = max(a)\n",
        "print(res2)\n",
        "\n",
        "res3 = min(a)\n",
        "print(res3)\n",
        "\n",
        "res4 = sum(a)\n",
        "print(res4)\n",
        "\n",
        "res5 = sorted(a)\n",
        "print(res5)"
      ],
      "execution_count": 0,
      "outputs": [
        {
          "output_type": "stream",
          "text": [
            "5\n",
            "8\n",
            "1\n",
            "20\n",
            "[1, 3, 4, 4, 8]\n"
          ],
          "name": "stdout"
        }
      ]
    },
    {
      "cell_type": "code",
      "metadata": {
        "id": "zXwyH5X7MgY6",
        "colab_type": "code",
        "outputId": "ff03f4bf-86f5-45ad-ecba-6924308ecbda",
        "colab": {
          "base_uri": "https://localhost:8080/",
          "height": 351
        }
      },
      "source": [
        "res1 = 1.2 + 3.8\n",
        "print(res1, type(res1))\n",
        "res2 = 10 // 100\n",
        "print(res2, type(res2))\n",
        "res3 = 1 >= 0\n",
        "print(res3, type(res3))\n",
        "res4 = 'Hello World' == 'Hello World'\n",
        "print(res4, type(res4))\n",
        "res5 = not 'Chainer' != 'Tutorial'\n",
        "print(res5, type(res5))\n",
        "res6 = all([True, True, False])\n",
        "print(res6, type(res6))\n",
        "res7 = any([True, True, False])\n",
        "print(res7, type(res7))\n",
        "res8 = abs(-3)\n",
        "print(res8, type(res8))\n",
        "res9 = 2 // 0\n",
        "print(res9, type(res9))"
      ],
      "execution_count": 10,
      "outputs": [
        {
          "output_type": "stream",
          "text": [
            "5.0 <class 'float'>\n",
            "0 <class 'int'>\n",
            "True <class 'bool'>\n",
            "True <class 'bool'>\n",
            "False <class 'bool'>\n",
            "False <class 'bool'>\n",
            "True <class 'bool'>\n",
            "3 <class 'int'>\n"
          ],
          "name": "stdout"
        },
        {
          "output_type": "error",
          "ename": "ZeroDivisionError",
          "evalue": "ignored",
          "traceback": [
            "\u001b[0;31m---------------------------------------------------------------------------\u001b[0m",
            "\u001b[0;31mZeroDivisionError\u001b[0m                         Traceback (most recent call last)",
            "\u001b[0;32m<ipython-input-10-226a63fcb17e>\u001b[0m in \u001b[0;36m<module>\u001b[0;34m()\u001b[0m\n\u001b[1;32m     15\u001b[0m \u001b[0mres8\u001b[0m \u001b[0;34m=\u001b[0m \u001b[0mabs\u001b[0m\u001b[0;34m(\u001b[0m\u001b[0;34m-\u001b[0m\u001b[0;36m3\u001b[0m\u001b[0;34m)\u001b[0m\u001b[0;34m\u001b[0m\u001b[0;34m\u001b[0m\u001b[0m\n\u001b[1;32m     16\u001b[0m \u001b[0mprint\u001b[0m\u001b[0;34m(\u001b[0m\u001b[0mres8\u001b[0m\u001b[0;34m,\u001b[0m \u001b[0mtype\u001b[0m\u001b[0;34m(\u001b[0m\u001b[0mres8\u001b[0m\u001b[0;34m)\u001b[0m\u001b[0;34m)\u001b[0m\u001b[0;34m\u001b[0m\u001b[0;34m\u001b[0m\u001b[0m\n\u001b[0;32m---> 17\u001b[0;31m \u001b[0mres9\u001b[0m \u001b[0;34m=\u001b[0m \u001b[0;36m2\u001b[0m \u001b[0;34m//\u001b[0m \u001b[0;36m0\u001b[0m\u001b[0;34m\u001b[0m\u001b[0;34m\u001b[0m\u001b[0m\n\u001b[0m\u001b[1;32m     18\u001b[0m \u001b[0mprint\u001b[0m\u001b[0;34m(\u001b[0m\u001b[0mres9\u001b[0m\u001b[0;34m,\u001b[0m \u001b[0mtype\u001b[0m\u001b[0;34m(\u001b[0m\u001b[0mres9\u001b[0m\u001b[0;34m)\u001b[0m\u001b[0;34m)\u001b[0m\u001b[0;34m\u001b[0m\u001b[0;34m\u001b[0m\u001b[0m\n",
            "\u001b[0;31mZeroDivisionError\u001b[0m: integer division or modulo by zero"
          ]
        }
      ]
    },
    {
      "cell_type": "code",
      "metadata": {
        "id": "AeRy56ATOFtD",
        "colab_type": "code",
        "colab": {
          "base_uri": "https://localhost:8080/",
          "height": 68
        },
        "outputId": "c8d4d45f-ddc9-44c5-fe69-42af034b39ca"
      },
      "source": [
        "a = [4, 8, 3, 4, 1]\n",
        "res1 = a[1:]\n",
        "print(res1)\n",
        "res2 = a[:-1]\n",
        "print(res2)\n",
        "res3 = a + [100]\n",
        "print(res3)"
      ],
      "execution_count": 15,
      "outputs": [
        {
          "output_type": "stream",
          "text": [
            "[8, 3, 4, 1]\n",
            "[4, 8, 3, 4]\n",
            "[4, 8, 3, 4, 1, 100]\n"
          ],
          "name": "stdout"
        }
      ]
    },
    {
      "cell_type": "code",
      "metadata": {
        "id": "wWlnwYhygwv9",
        "colab_type": "code",
        "colab": {
          "base_uri": "https://localhost:8080/",
          "height": 68
        },
        "outputId": "7e559fd8-9a39-447a-c861-5b90414eafd8"
      },
      "source": [
        "a = [4, 8, 3, 4, 1]\n",
        "res1 = [ai%2 for ai in a]\n",
        "print(res1)\n",
        "res2 = sum(res1)\n",
        "print(res2)\n",
        "res3 = [ai for ai in a if ai%2 == 1]\n",
        "print(res3)"
      ],
      "execution_count": 16,
      "outputs": [
        {
          "output_type": "stream",
          "text": [
            "[0, 0, 1, 0, 1]\n",
            "2\n",
            "[3, 1]\n"
          ],
          "name": "stdout"
        }
      ]
    },
    {
      "cell_type": "code",
      "metadata": {
        "id": "RcRwrzgEh2FF",
        "colab_type": "code",
        "colab": {
          "base_uri": "https://localhost:8080/",
          "height": 71
        },
        "outputId": "b897e045-b4a4-4e91-978b-be082c486d19"
      },
      "source": [
        "res1 = ' '.join([str(i) for i in range(99)])\n",
        "print(res1)\n",
        "res2 = '{:.9}'.format(1.0/7.0)\n",
        "print(res2)"
      ],
      "execution_count": 1,
      "outputs": [
        {
          "output_type": "stream",
          "text": [
            "0 1 2 3 4 5 6 7 8 9 10 11 12 13 14 15 16 17 18 19 20 21 22 23 24 25 26 27 28 29 30 31 32 33 34 35 36 37 38 39 40 41 42 43 44 45 46 47 48 49 50 51 52 53 54 55 56 57 58 59 60 61 62 63 64 65 66 67 68 69 70 71 72 73 74 75 76 77 78 79 80 81 82 83 84 85 86 87 88 89 90 91 92 93 94 95 96 97 98\n",
            "0.142857143\n"
          ],
          "name": "stdout"
        }
      ]
    },
    {
      "cell_type": "code",
      "metadata": {
        "id": "Wk26TV5i13Qa",
        "colab_type": "code",
        "colab": {
          "base_uri": "https://localhost:8080/",
          "height": 85
        },
        "outputId": "667107c1-747e-4c04-905c-a7eaf1147e79"
      },
      "source": [
        "class DataManager:\n",
        "  def __init__(self, x, y, z):\n",
        "    self.x = x\n",
        "    self.y = y\n",
        "    self.z = z\n",
        "  \n",
        "  def add_x(self, x):\n",
        "    self.x += x\n",
        "  def add_y(self, y):\n",
        "    self.y += y\n",
        "  def add_z(self, z):\n",
        "    self.z += z\n",
        "  def sum(self):\n",
        "    return self.x + self.y + self.z\n",
        "    \n",
        "\n",
        "data_manager = DataManager(2, 3, 5)\n",
        "print(data_manager.sum())  # => 10\n",
        "data_manager.add_x(4)      # => data_manager.x の値が 2 から 6 に更新される\n",
        "print(data_manager.sum())  # => 14\n",
        "data_manager.add_y(0)      # => data_manager.y の値が 3 から 3 に更新される\n",
        "print(data_manager.sum())  # => 14\n",
        "data_manager.add_z(-9)     # => data_manager.z の値が 5 から -4 に更新される\n",
        "print(data_manager.sum())  # => 5"
      ],
      "execution_count": 3,
      "outputs": [
        {
          "output_type": "stream",
          "text": [
            "10\n",
            "14\n",
            "14\n",
            "5\n"
          ],
          "name": "stdout"
        }
      ]
    },
    {
      "cell_type": "code",
      "metadata": {
        "id": "YK1-h1LL9LWP",
        "colab_type": "code",
        "colab": {
          "base_uri": "https://localhost:8080/",
          "height": 51
        },
        "outputId": "6a0628c2-7633-49cb-f05b-12ddeeb308a0"
      },
      "source": [
        "def f(a):\n",
        "    a = [6, 7, 8]\n",
        "\n",
        "def g(a):\n",
        "    a.append(1)\n",
        "\n",
        "def somefunction():\n",
        "    a0 = [1, 2, 3]\n",
        "    f(a0)\n",
        "    print(a0)\n",
        "\n",
        "    a1 = [1, 2, 3]\n",
        "    g(a1)\n",
        "    print(a1)\n",
        "\n",
        "somefunction()"
      ],
      "execution_count": 4,
      "outputs": [
        {
          "output_type": "stream",
          "text": [
            "[1, 2, 3]\n",
            "[1, 2, 3, 1]\n"
          ],
          "name": "stdout"
        }
      ]
    },
    {
      "cell_type": "code",
      "metadata": {
        "id": "uLd3mP2qDioc",
        "colab_type": "code",
        "colab": {
          "base_uri": "https://localhost:8080/",
          "height": 34
        },
        "outputId": "8ad7eb98-0e50-466c-ab51-fa062a413270"
      },
      "source": [
        "pn = [2]\n",
        "for i in range(3, 100, 2):\n",
        "  for pi in pn:\n",
        "    if i % pi == 0:\n",
        "      break\n",
        "  else:\n",
        "    pn.append(i)\n",
        "print(pn)"
      ],
      "execution_count": 11,
      "outputs": [
        {
          "output_type": "stream",
          "text": [
            "[2, 3, 5, 7, 11, 13, 17, 19, 23, 29, 31, 37, 41, 43, 47, 53, 59, 61, 67, 71, 73, 79, 83, 89, 97]\n"
          ],
          "name": "stdout"
        }
      ]
    }
  ]
}